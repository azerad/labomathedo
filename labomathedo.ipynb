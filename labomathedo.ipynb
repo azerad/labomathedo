{
 "cells": [
  {
   "cell_type": "markdown",
   "metadata": {},
   "source": [
    "## Qu'est ce qu'une équation différentielle"
   ]
  },
  {
   "cell_type": "markdown",
   "metadata": {},
   "source": [
    "exemples en mécanique de Newton $$m x'' = F(x,x')$$"
   ]
  },
  {
   "cell_type": "markdown",
   "metadata": {},
   "source": [
    "exemples en biologie\n",
    "Malthus $ x' = a x$ vs Logistique $x' = a x - b x^2$ \n",
    "glucose dans le sang\n",
    "Lotka-Volterra (proie- prédateur)"
   ]
  },
  {
   "cell_type": "markdown",
   "metadata": {},
   "source": [
    "## Un peu de théorie\n",
    "$$y' = f(t,y), y(0)= y_0$$\n",
    "$$y(t) = y_0 + \\int_0^t f(s,y(s)) \\,ds$$\n",
    "schéma des approximations successives:\n",
    "## théorème de Cauchy-Lipschitz\n",
    "exemple pour l'exponentielle $y'=y, \\quad y(0) =1$\n",
    "$$y_1(t) = y_0 + \\int_0^t y_0 \\,ds= 1 + t$$\n",
    "$$y_2(t) = y_0 + \\int_0^t y_1(s) \\,ds= 1 + t + t^2/2$$\n",
    "$$y_n(t) = y_0 + \\int_0^t y_{n-1}(s) \\,ds = 1 + t + t^2/2+ \\ldots +t^n/n!$$\n",
    "theorème d'existence et d'unicité mais pas pratique pour le calcul numérique en général"
   ]
  },
  {
   "cell_type": "code",
   "execution_count": null,
   "metadata": {},
   "outputs": [],
   "source": []
  },
  {
   "cell_type": "code",
   "execution_count": 1,
   "metadata": {},
   "outputs": [
    {
     "data": {
      "text/html": [
       "\n",
       "        <iframe\n",
       "            width=\"800\"\n",
       "            height=\"600\"\n",
       "            src=\"https://fr.wikipedia.org/wiki/Th%C3%A9or%C3%A8me_de_Cauchy-Lipschitz#Énoncés\"\n",
       "            frameborder=\"0\"\n",
       "            allowfullscreen\n",
       "        ></iframe>\n",
       "        "
      ],
      "text/plain": [
       "<IPython.lib.display.IFrame at 0x7fdee843c5c0>"
      ]
     },
     "execution_count": 1,
     "metadata": {},
     "output_type": "execute_result"
    }
   ],
   "source": [
    "from IPython.display import IFrame\n",
    "url=\"https://fr.wikipedia.org/wiki/Th%C3%A9or%C3%A8me_de_Cauchy-Lipschitz#Énoncés\"\n",
    "IFrame(url,width=800, height=600)"
   ]
  },
  {
   "cell_type": "markdown",
   "metadata": {},
   "source": [
    "## Des cas qui violent la causalité: non unicité des solutions quand f non lipschitz par rapport à la variable y\n",
    "$$y' = 2\\sqrt{y}, \\quad y(0)=0$$\n",
    "$$y(t) = t^2$$ est solution pour $t\\geq 0$ mais aussi $$y(t) =0$$"
   ]
  },
  {
   "cell_type": "markdown",
   "metadata": {},
   "source": [
    "## Visualisation d'une équation différentielle\n",
    "champ de vecteur\n",
    "tracé de champs de vecteurs en python (quiver?)\n",
    "portrait de phase (cas des équations du second  ordre ou des systèmes de 2 équations du premier ordre)\n",
    "symétries (cf exemple dans wolfram alpha)\n",
    "python peut inclure des url\n"
   ]
  },
  {
   "cell_type": "code",
   "execution_count": 2,
   "metadata": {},
   "outputs": [
    {
     "data": {
      "text/html": [
       "\n",
       "        <iframe\n",
       "            width=\"1024\"\n",
       "            height=\"768\"\n",
       "            src=\"http://demonstrations.wolfram.com/SlopeFields/\"\n",
       "            frameborder=\"0\"\n",
       "            allowfullscreen\n",
       "        ></iframe>\n",
       "        "
      ],
      "text/plain": [
       "<IPython.lib.display.IFrame at 0x7fdee843c630>"
      ]
     },
     "execution_count": 2,
     "metadata": {},
     "output_type": "execute_result"
    }
   ],
   "source": [
    "url=\"http://demonstrations.wolfram.com/SlopeFields/\"\n",
    "IFrame(url, width=1024, height=768)"
   ]
  },
  {
   "cell_type": "markdown",
   "metadata": {},
   "source": [
    "## Résolution analytique: très rare\n",
    "quelques exemples,\n",
    "idée:utiliser les symétries des champs de vecteur"
   ]
  },
  {
   "cell_type": "code",
   "execution_count": 3,
   "metadata": {},
   "outputs": [
    {
     "data": {
      "text/html": [
       "\n",
       "        <iframe\n",
       "            width=\"800\"\n",
       "            height=\"600\"\n",
       "            src=\"http://www.wolframalpha.com//examples/mathematics/differential-equations/\"\n",
       "            frameborder=\"0\"\n",
       "            allowfullscreen\n",
       "        ></iframe>\n",
       "        "
      ],
      "text/plain": [
       "<IPython.lib.display.IFrame at 0x7fdee9dcf390>"
      ]
     },
     "execution_count": 3,
     "metadata": {},
     "output_type": "execute_result"
    }
   ],
   "source": [
    "url=\"http://www.wolframalpha.com//examples/mathematics/differential-equations/\"\n",
    "IFrame(url, width=800, height=600)"
   ]
  },
  {
   "cell_type": "markdown",
   "metadata": {},
   "source": [
    "## Schémas numériques\n",
    "comment calculer numériquement une approximation\n",
    "Euler, rudimentaire, beaucoup de points nécessaires\n",
    "point milieu, ordre 2\n",
    "Heun (le premier schéma codé) ordre 3\n",
    "ordre d'un schéma\n",
    "\n",
    "Runge-Kutta\n",
    "Dormand-Prince"
   ]
  },
  {
   "cell_type": "markdown",
   "metadata": {},
   "source": [
    "##  Le schéma d'Euler\n",
    "$$y'(t)= \\frac{dy}{dt} \\approx \\frac{y(t+h) - y(t)}{h}$$\n",
    "$$y(t+h) \\approx y(t) + h\\,f(t,y(t))$$\n",
    "On génère une suite de valeurs $y_n$ aux instants $t_n = t_0 + n\\cdot h$\n",
    "\n",
    "le schéma s'écrit\n",
    "$$y_{n+1} = y_n + h\\cdot f(t_n,y_n)$$\n",
    "où $y_0$ est la valeur initiale $y(t_0)$\n"
   ]
  },
  {
   "cell_type": "code",
   "execution_count": 4,
   "metadata": {},
   "outputs": [],
   "source": [
    "import numpy as np\n",
    "#schéma d'Euler\n",
    "def euler(f, t0, y0, h, tfin):\n",
    "    t=np.arange(t0,tfin+h,h) # python n'atteint pas la borne superieure :-()\n",
    "    y = np.zeros(len(t))\n",
    "    y[0] = y0\n",
    "    for n in range(len(t)-1):\n",
    "        y[n+1] = y[n] + h*f(t[n], y[n])\n",
    "    return y\n"
   ]
  },
  {
   "cell_type": "code",
   "execution_count": 5,
   "metadata": {},
   "outputs": [],
   "source": [
    "import math\n",
    "def f(t,y):\n",
    "    return y\n",
    "# tinitial, donnee initiale, pas de temps, tfinal\n",
    "t0,y0, h, tfin = 0,1, 1/2, 2\n",
    "# appel de la fonction\n",
    "y=euler(f, t0, y0, h, tfin)"
   ]
  },
  {
   "cell_type": "code",
   "execution_count": 6,
   "metadata": {},
   "outputs": [
    {
     "data": {
      "text/plain": [
       "<matplotlib.legend.Legend at 0x7fdebe22bb70>"
      ]
     },
     "execution_count": 6,
     "metadata": {},
     "output_type": "execute_result"
    }
   ],
   "source": [
    "import matplotlib.pyplot as plt\n",
    "t=np.arange(t0,tfin+h,h)\n",
    "plt.plot(t,y,'-o')\n",
    "z=np.exp(t)\n",
    "plt.plot(t,z,'-o')\n",
    "plt.legend(['euler','exp'])"
   ]
  },
  {
   "cell_type": "markdown",
   "metadata": {},
   "source": [
    "## Convergence quand le pas de temps $h\\to 0$\n",
    "On peut essayer avec des pas de plus en plus petits."
   ]
  },
  {
   "cell_type": "code",
   "execution_count": 7,
   "metadata": {},
   "outputs": [
    {
     "data": {
      "text/plain": [
       "array([3.3890561 , 2.3265561 , 1.42859162, 0.80580593, 0.43038934])"
      ]
     },
     "execution_count": 7,
     "metadata": {},
     "output_type": "execute_result"
    }
   ],
   "source": [
    "pas = [1, 1/2, 1/4,  1/8, 1/16]\n",
    "err=np.zeros(len(pas))\n",
    "for i, h in enumerate(pas):\n",
    "    y=euler(f,t0,y0,h,tfin)\n",
    "    t=np.arange(t0,tfin+h,h)\n",
    "    z=np.exp(t)\n",
    "    erreur= np.max(np.abs(y-z))\n",
    "    err[i]=erreur\n",
    "err   "
   ]
  },
  {
   "cell_type": "markdown",
   "metadata": {},
   "source": [
    "## On trace en log log "
   ]
  },
  {
   "cell_type": "code",
   "execution_count": 8,
   "metadata": {},
   "outputs": [
    {
     "data": {
      "text/plain": [
       "Text(0.5,1,'convergence quand le pas tend vers zéro')"
      ]
     },
     "execution_count": 8,
     "metadata": {},
     "output_type": "execute_result"
    },
    {
     "data": {
      "image/png": "[encoded data removed]",
      "text/plain": [
       "<Figure size 432x288 with 1 Axes>"
      ]
     },
     "metadata": {
      "needs_background": "light"
     },
     "output_type": "display_data"
    }
   ],
   "source": [
    "plt.loglog(pas, err,'-or')\n",
    "plt.loglog(pas,pas,'-ob')\n",
    "plt.legend(['erreur','droite de pente 1'])\n",
    "plt.xlabel('log pas')\n",
    "plt.ylabel('log erreur')\n",
    "plt.title('convergence Euler')"
   ]
  },
  {
   "cell_type": "markdown",
   "metadata": {},
   "source": [
    " On constate que $\\log erreur(h) \\approx \\log h + Cte$ donc que $erreur(h) = O(h)$\n",
    "## On dit que le schéma d'Euler est d'ordre 1"
   ]
  },
  {
   "cell_type": "markdown",
   "metadata": {},
   "source": [
    "## Un schéma plus précis\n",
    "$$y(t+h) = y(t) + \\int_t^{t+h} f(s,y(s)) \\,ds$$\n",
    "On approche l'intégrale par l'aire du trapèze\n",
    "$$y(t+h) \\approx y(t) + h \\cdot \\frac{f(t,y(t)) + f((t+h,y(t+h))}{2}$$\n",
    "Problème: $y(t+h)$ n'est pas connu?\n",
    "schéma explicite : on remplace $y(t+h)$ par la valeur donnée par Euler:\n",
    "$y(t+h) \\approx u= y(t) + h f(t,y(t))$\n",
    "On obtient le schéma du trapèze explicite \n",
    "$$y(t+h) \\approx y(t) + h \\cdot \\frac{f(t,y(t)) + f((t+h,u)}{2}$$\n",
    "appelé ou schéma de Runge ou schéma de Heun (1895)"
   ]
  },
  {
   "cell_type": "code",
   "execution_count": 31,
   "metadata": {},
   "outputs": [
    {
     "data": {
      "text/html": [
       "\n",
       "        <iframe\n",
       "            width=\"800\"\n",
       "            height=\"600\"\n",
       "            src=\"https://fr.wikipedia.org/wiki/Carl_Runge\"\n",
       "            frameborder=\"0\"\n",
       "            allowfullscreen\n",
       "        ></iframe>\n",
       "        "
      ],
      "text/plain": [
       "<IPython.lib.display.IFrame at 0x7fdebc979240>"
      ]
     },
     "execution_count": 31,
     "metadata": {},
     "output_type": "execute_result"
    }
   ],
   "source": [
    "url=\"https://fr.wikipedia.org/wiki/Carl_Runge\"\n",
    "IFrame(url,width=800, height=600)"
   ]
  },
  {
   "cell_type": "code",
   "execution_count": 25,
   "metadata": {},
   "outputs": [],
   "source": [
    "def runge(f, t0, y0, h, tfin):\n",
    "    t=np.arange(t0,tfin+h,h) # python n'atteint pas la borne superieure :-()\n",
    "    y = np.zeros(len(t))\n",
    "    y[0] = y0\n",
    "    for n in range(len(t)-1):\n",
    "        u = y[n] + h*f(t[n], y[n])\n",
    "        y[n+1]= y[n]+ h*( f(t[n],y[n])+f(t[n+1],u) )/2\n",
    "    return y\n"
   ]
  },
  {
   "cell_type": "code",
   "execution_count": 28,
   "metadata": {},
   "outputs": [
    {
     "data": {
      "text/plain": [
       "array([1.        , 1.625     , 2.640625  , 4.29101562, 6.97290039])"
      ]
     },
     "execution_count": 28,
     "metadata": {},
     "output_type": "execute_result"
    }
   ],
   "source": [
    "y0,h=1, 1/2\n",
    "ye=euler(f, t0, y0, h, tfin)\n",
    "yr=runge(f, t0, y0, h, tfin)\n",
    "yr"
   ]
  },
  {
   "cell_type": "code",
   "execution_count": 29,
   "metadata": {},
   "outputs": [
    {
     "data": {
      "text/plain": [
       "<matplotlib.legend.Legend at 0x7fdebc952b00>"
      ]
     },
     "execution_count": 29,
     "metadata": {},
     "output_type": "execute_result"
    },
    {
     "data": {
      "image/png": "[encoded data removed]",
      "text/plain": [
       "<Figure size 432x288 with 1 Axes>"
      ]
     },
     "metadata": {
      "needs_background": "light"
     },
     "output_type": "display_data"
    }
   ],
   "source": [
    "t=np.arange(t0,tfin+h,h)\n",
    "plt.plot(t,ye,'-o')\n",
    "z=np.exp(t)\n",
    "plt.plot(t,yr,'-o')\n",
    "plt.plot(t,z,'-o')\n",
    "plt.legend(['euler','runge','exp'])"
   ]
  },
  {
   "cell_type": "code",
   "execution_count": 30,
   "metadata": {},
   "outputs": [
    {
     "data": {
      "text/plain": [
       "Text(0.5,1,'convergence Runge')"
      ]
     },
     "execution_count": 30,
     "metadata": {},
     "output_type": "execute_result"
    },
    {
     "data": {
      "image/png": "[encoded data removed]",
      "text/plain": [
       "<Figure size 432x288 with 1 Axes>"
      ]
     },
     "metadata": {
      "needs_background": "light"
     },
     "output_type": "display_data"
    }
   ],
   "source": [
    "pas = [1, 1/2, 1/4,  1/8, 1/16]\n",
    "err=np.zeros(len(pas))\n",
    "for i, h in enumerate(pas):\n",
    "    y=runge(f,t0,y0,h,tfin)\n",
    "    t=np.arange(t0,tfin+h,h)\n",
    "    z=np.exp(t)\n",
    "    erreur= np.max(np.abs(y-z))\n",
    "    err[i]=erreur\n",
    "plt.loglog(pas, err,'-or')\n",
    "plt.loglog(pas,np.power(pas,2),'-ob')\n",
    "plt.legend(['erreur','droite de pente 2'])\n",
    "plt.xlabel('log pas')\n",
    "plt.ylabel('log erreur')\n",
    "plt.title('convergence Runge')"
   ]
  },
  {
   "cell_type": "markdown",
   "metadata": {},
   "source": [
    "## Exercice: Variante: méthode du point milieu\n",
    "Méthodes d'ordre plus élevées\n",
    "Méthode de Heun\n",
    "Méthode de Runge-Kutta 4"
   ]
  },
  {
   "cell_type": "markdown",
   "metadata": {},
   "source": [
    "## Le  vrai pendule en python"
   ]
  },
  {
   "cell_type": "markdown",
   "metadata": {},
   "source": [
    "On veut résoudre $\\theta''(t) + b \\theta'(t) + c \\sin(\\theta(t)) = 0$\n",
    "\n",
    "on se ramène à un système de deux équations du premier ordre \n",
    "\n",
    "$\\theta'(t) = \\omega(t)$\n",
    "\n",
    "$\\omega'(t) = -b \\omega(t) - c\\sin(\\theta(t))$"
   ]
  },
  {
   "cell_type": "code",
   "execution_count": 12,
   "metadata": {},
   "outputs": [],
   "source": [
    "import numpy as np"
   ]
  },
  {
   "cell_type": "code",
   "execution_count": 13,
   "metadata": {},
   "outputs": [],
   "source": [
    "from scipy.integrate import odeint "
   ]
  },
  {
   "cell_type": "code",
   "execution_count": 14,
   "metadata": {},
   "outputs": [],
   "source": [
    " def pend(y, t, b, c):\n",
    "    theta, omega = y\n",
    "    dydt = [omega, -b*omega - c*np.sin(theta)]\n",
    "    return dydt"
   ]
  },
  {
   "cell_type": "markdown",
   "metadata": {},
   "source": [
    "valeurs des constantes"
   ]
  },
  {
   "cell_type": "code",
   "execution_count": 15,
   "metadata": {},
   "outputs": [],
   "source": [
    "b = 0.01\n",
    "c = 5.0"
   ]
  },
  {
   "cell_type": "code",
   "execution_count": 16,
   "metadata": {},
   "outputs": [],
   "source": [
    "y0 = [np.pi - 0.1, 0.0] # pendule initial  quasiment vertical à vitesse nulle\n",
    "t = np.linspace(0, 10, 101) # t entre 0 et 10, dt=0.01"
   ]
  },
  {
   "cell_type": "code",
   "execution_count": 17,
   "metadata": {},
   "outputs": [],
   "source": [
    "sol = odeint(pend, y0, t, args=(b, c))"
   ]
  },
  {
   "cell_type": "code",
   "execution_count": 18,
   "metadata": {},
   "outputs": [
    {
     "data": {
      "image/png": "[encoded data removed]",
      "text/plain": [
       "<Figure size 432x288 with 1 Axes>"
      ]
     },
     "metadata": {
      "needs_background": "light"
     },
     "output_type": "display_data"
    }
   ],
   "source": [
    "import matplotlib.pyplot as plt\n",
    "\n",
    "plt.plot(t, sol[:, 0], 'b', label='theta(t)')\n",
    "plt.plot(t, sol[:, 1], 'g', label='omega(t)')\n",
    "plt.legend(loc='best')\n",
    "plt.xlabel('t')\n",
    "plt.grid()\n",
    "plt.show()\n"
   ]
  },
  {
   "cell_type": "markdown",
   "metadata": {},
   "source": [
    "## Comparaison avec le pendule linéarisé"
   ]
  },
  {
   "cell_type": "code",
   "execution_count": 19,
   "metadata": {},
   "outputs": [],
   "source": [
    "def pendapprox(y, t, b, c):\n",
    "    theta, omega = y\n",
    "    dydt = [omega, -b*omega - c*theta]\n",
    "    return dydt"
   ]
  },
  {
   "cell_type": "code",
   "execution_count": 20,
   "metadata": {},
   "outputs": [
    {
     "data": {
      "image/png": "[encoded data removed]",
      "text/plain": [
       "<Figure size 432x288 with 1 Axes>"
      ]
     },
     "metadata": {
      "needs_background": "light"
     },
     "output_type": "display_data"
    }
   ],
   "source": [
    "y0=[np.pi/4,0] # on part de moins haut\n",
    "solapp = odeint(pendapprox, y0, t, args=(b, c))\n",
    "sol = odeint(pend, y0, t, args=(b, c))\n",
    "plt.plot(t, sol[:, 0], 'b', label='theta(t)')\n",
    "plt.plot(t,solapp[:,0],'k',label='approx(t)')\n",
    "plt.legend(loc='best')\n",
    "plt.xlabel('t')\n",
    "plt.grid()\n",
    "plt.show()"
   ]
  },
  {
   "cell_type": "code",
   "execution_count": null,
   "metadata": {},
   "outputs": [],
   "source": []
  },
  {
   "cell_type": "markdown",
   "metadata": {},
   "source": [
    "Paraboles pour chute des corps voir cookbook de C Rossant\n",
    "probleme de l'allumage de l'allumette traduire de matlab probleme raide\n",
    "mission apollo traduire de matlab? \n",
    "orbitode.m \n",
    "L. F. Shampine and M. K. Gordon, Computer Solution of Ordinary\n",
    "Differential Equations, W.H. Freeman & Co., 1975.\n",
    "visualisation de champs de vecteurs en python? avec wolframalpha?\n",
    "Lotka Volterra\n"
   ]
  },
  {
   "cell_type": "markdown",
   "metadata": {},
   "source": [
    "## projet mission apollo ou interstellar\n"
   ]
  },
  {
   "cell_type": "code",
   "execution_count": null,
   "metadata": {},
   "outputs": [],
   "source": []
  }
 ],
 "metadata": {
  "kernelspec": {
   "display_name": "Python 3",
   "language": "python",
   "name": "python3"
  },
  "language_info": {
   "codemirror_mode": {
    "name": "ipython",
    "version": 3
   },
   "file_extension": ".py",
   "mimetype": "text/x-python",
   "name": "python",
   "nbconvert_exporter": "python",
   "pygments_lexer": "ipython3",
   "version": "3.7.0"
  }
 },
 "nbformat": 4,
 "nbformat_minor": 2
}
